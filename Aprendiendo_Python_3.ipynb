{
  "nbformat": 4,
  "nbformat_minor": 0,
  "metadata": {
    "colab": {
      "name": "Aprendiendo_Python_3.ipynb",
      "provenance": [],
      "authorship_tag": "ABX9TyMxDO4YMX02bdIhh4crEWgE",
      "include_colab_link": true
    },
    "kernelspec": {
      "name": "python3",
      "display_name": "Python 3"
    }
  },
  "cells": [
    {
      "cell_type": "markdown",
      "metadata": {
        "id": "view-in-github",
        "colab_type": "text"
      },
      "source": [
        "<a href=\"https://colab.research.google.com/github/IsaacMrSmile/HomeWork/blob/main/Aprendiendo_Python_3.ipynb\" target=\"_parent\"><img src=\"https://colab.research.google.com/assets/colab-badge.svg\" alt=\"Open In Colab\"/></a>"
      ]
    },
    {
      "cell_type": "markdown",
      "metadata": {
        "id": "mMU7O3j3Vd0b"
      },
      "source": [
        "# Diccionarios \r\n",
        "Estructuras de datos que puede guardar multiples valores y cada uno tiene una clave para identificarlo\r\n",
        "\r\n",
        "{\"clave\":\"valor\"}"
      ]
    },
    {
      "cell_type": "code",
      "metadata": {
        "id": "UP9cnB4eV2oJ"
      },
      "source": [
        "persona = {\"nombre\":\"Poncho\",\r\n",
        " \"apellido\": \"Hernandez\", \r\n",
        " \"anio_nacimiento\": 1992,\r\n",
        " \"mes_nacimiento\":10,\r\n",
        " \"es_casado\": False,\r\n",
        " }"
      ],
      "execution_count": 13,
      "outputs": []
    },
    {
      "cell_type": "code",
      "metadata": {
        "colab": {
          "base_uri": "https://localhost:8080/"
        },
        "id": "SK9MSCVmWlyK",
        "outputId": "deba8cb7-b9ce-44dc-b086-151f33d8a53b"
      },
      "source": [
        "persona[\"es_casado\"]"
      ],
      "execution_count": 10,
      "outputs": [
        {
          "output_type": "execute_result",
          "data": {
            "text/plain": [
              "False"
            ]
          },
          "metadata": {
            "tags": []
          },
          "execution_count": 10
        }
      ]
    },
    {
      "cell_type": "markdown",
      "metadata": {
        "id": "k9vY75cSXpd4"
      },
      "source": [
        "# Ejercicio\r\n",
        "\r\n",
        "Dado un diccionario con la informacion de una persona calcula la edad y escribe un texto similar al siguiente,\r\n",
        "\r\n",
        "\"La persona llamada PEDRO tiene 25 años\""
      ]
    },
    {
      "cell_type": "code",
      "metadata": {
        "id": "qEIVx-ePYVdU"
      },
      "source": [
        "anio_actual = 2020\r\n",
        "mes_actual =  7\r\n",
        "\r\n",
        "edad = anio_actual - persona[\"anio_nacimiento\"]\r\n"
      ],
      "execution_count": 14,
      "outputs": []
    },
    {
      "cell_type": "code",
      "metadata": {
        "id": "CD5SN9moYyd_"
      },
      "source": [
        ""
      ],
      "execution_count": null,
      "outputs": []
    }
  ]
}