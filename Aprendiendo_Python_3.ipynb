{
  "nbformat": 4,
  "nbformat_minor": 0,
  "metadata": {
    "colab": {
      "name": "Aprendiendo_Python_3.ipynb",
      "provenance": [],
      "authorship_tag": "ABX9TyOyj6TH0c3da5RkBUTw0S6+",
      "include_colab_link": true
    },
    "kernelspec": {
      "name": "python3",
      "display_name": "Python 3"
    }
  },
  "cells": [
    {
      "cell_type": "markdown",
      "metadata": {
        "id": "view-in-github",
        "colab_type": "text"
      },
      "source": [
        "<a href=\"https://colab.research.google.com/github/IsaacMrSmile/HomeWork/blob/main/Aprendiendo_Python_3.ipynb\" target=\"_parent\"><img src=\"https://colab.research.google.com/assets/colab-badge.svg\" alt=\"Open In Colab\"/></a>"
      ]
    },
    {
      "cell_type": "markdown",
      "metadata": {
        "id": "mMU7O3j3Vd0b"
      },
      "source": [
        "# Diccionarios \r\n",
        "Estructuras de datos que puede guardar multiples valores y cada uno tiene una clave para identificarlo\r\n",
        "\r\n",
        "{\"clave\":\"valor\"}"
      ]
    },
    {
      "cell_type": "code",
      "metadata": {
        "id": "UP9cnB4eV2oJ"
      },
      "source": [
        "persona = {\r\n",
        "    \"nombre\":\"Poncho\",\r\n",
        " \"apellido\": \"Hernandez\", \r\n",
        " \"anio_nacimiento\": 1992,\r\n",
        " \"mes_nacimiento\": 10,\r\n",
        " \"es_casado\": False,\r\n",
        " }"
      ],
      "execution_count": 29,
      "outputs": []
    },
    {
      "cell_type": "code",
      "metadata": {
        "colab": {
          "base_uri": "https://localhost:8080/"
        },
        "id": "SK9MSCVmWlyK",
        "outputId": "376a4e23-a262-4906-9db3-02a035393efd"
      },
      "source": [
        "persona[\"anio_nacimiento\"]"
      ],
      "execution_count": 30,
      "outputs": [
        {
          "output_type": "execute_result",
          "data": {
            "text/plain": [
              "1992"
            ]
          },
          "metadata": {
            "tags": []
          },
          "execution_count": 30
        }
      ]
    },
    {
      "cell_type": "markdown",
      "metadata": {
        "id": "k9vY75cSXpd4"
      },
      "source": [
        "# Ejercicio\r\n",
        "\r\n",
        "Dado un diccionario con la informacion de una persona calcula la edad y escribe un texto similar al siguiente,\r\n",
        "\r\n",
        "\"La persona llamada PEDRO tiene 25 años\""
      ]
    },
    {
      "cell_type": "code",
      "metadata": {
        "colab": {
          "base_uri": "https://localhost:8080/"
        },
        "id": "qEIVx-ePYVdU",
        "outputId": "d55556fc-971e-407c-c610-81fa9b300a09"
      },
      "source": [
        "ano_actual = 2020\r\n",
        "mes_actual =  7\r\n",
        "\r\n",
        "edad = anio_actual - persona[\"anio_nacimiento\"]\r\n",
        "if mes_actual < persona[\"mes_nacimiento\"]:\r\n",
        "    edad = edad - 1\r\n",
        "\r\n",
        "print(\"la persona\", persona[\"nombre\"], \"tiene\", edad, \"años\" )"
      ],
      "execution_count": 36,
      "outputs": [
        {
          "output_type": "stream",
          "text": [
            "la persona Poncho tiene 27 años\n"
          ],
          "name": "stdout"
        }
      ]
    },
    {
      "cell_type": "markdown",
      "metadata": {
        "id": "pdav4w5UdOoH"
      },
      "source": [
        "# Funciones \r\n",
        "\r\n",
        "Instrucciones de codigo reutilizables, debe cumplir con un objetivo, es decir, agregar una funcionalidad\r\n",
        "\r\n",
        "\"sintaxis\"\r\n",
        "\r\n",
        "$$def nombre_funcion():\r\n",
        "  print(\"código a ejecutar\")$$ \r\n",
        "  \r\n",
        "# Parametros de Funciones\r\n",
        "\r\n",
        "los valores con las que se trabaja una funcion\r\n",
        "\r\n",
        "# Bibliotecas\r\n",
        "\r\n",
        "Conjunto de funcionalidades que alguien mas implemento y que puedes utilizar.\r\n"
      ]
    },
    {
      "cell_type": "code",
      "metadata": {
        "id": "CD5SN9moYyd_"
      },
      "source": [
        "def saludar(nombre):\r\n",
        "    print(\"Hola \" + nombre + \" te saludo\")"
      ],
      "execution_count": 48,
      "outputs": []
    },
    {
      "cell_type": "code",
      "metadata": {
        "colab": {
          "base_uri": "https://localhost:8080/"
        },
        "id": "55i7hsqcfzeo",
        "outputId": "8d6739b8-f50f-4854-992e-146dd28ef55e"
      },
      "source": [
        "saludar(\"juan\")\r\n"
      ],
      "execution_count": 49,
      "outputs": [
        {
          "output_type": "stream",
          "text": [
            "Hola juan te saludo\n"
          ],
          "name": "stdout"
        }
      ]
    },
    {
      "cell_type": "code",
      "metadata": {
        "colab": {
          "base_uri": "https://localhost:8080/"
        },
        "id": "ncPcNErrf037",
        "outputId": "5e0f42de-3355-4f0c-d9ec-072784742840"
      },
      "source": [
        "saludar()\r\n",
        "saludar()\r\n",
        "saludar()\r\n",
        "saludar()\r\n",
        "\r\n",
        "\r\n"
      ],
      "execution_count": 44,
      "outputs": [
        {
          "output_type": "stream",
          "text": [
            "Hola te saludo\n",
            "Hola te saludo\n",
            "Hola te saludo\n",
            "Hola te saludo\n"
          ],
          "name": "stdout"
        }
      ]
    },
    {
      "cell_type": "code",
      "metadata": {
        "id": "FcQPSxUGoUFY"
      },
      "source": [
        "import random\r\n",
        "def tira_el_dado():\r\n",
        "    numero = random.randint(1, 6)\r\n",
        "    print(\" El numero es\", numero)"
      ],
      "execution_count": 53,
      "outputs": []
    }
  ]
}