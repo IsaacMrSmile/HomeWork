{
  "nbformat": 4,
  "nbformat_minor": 0,
  "metadata": {
    "colab": {
      "name": "Aprendiendo_Python_3.ipynb",
      "provenance": [],
      "authorship_tag": "ABX9TyOq6mC21SUgPmNti1tFMuxo",
      "include_colab_link": true
    },
    "kernelspec": {
      "name": "python3",
      "display_name": "Python 3"
    }
  },
  "cells": [
    {
      "cell_type": "markdown",
      "metadata": {
        "id": "view-in-github",
        "colab_type": "text"
      },
      "source": [
        "<a href=\"https://colab.research.google.com/github/IsaacMrSmile/HomeWork/blob/main/Aprendiendo_Python_3.ipynb\" target=\"_parent\"><img src=\"https://colab.research.google.com/assets/colab-badge.svg\" alt=\"Open In Colab\"/></a>"
      ]
    },
    {
      "cell_type": "markdown",
      "metadata": {
        "id": "mMU7O3j3Vd0b"
      },
      "source": [
        "# Diccionarios \r\n",
        "Estructuras de datos que puede guardar multiples valores y cada uno tiene una clave para identificarlo\r\n",
        "\r\n",
        "{\"clave\":\"valor\"}"
      ]
    },
    {
      "cell_type": "code",
      "metadata": {
        "id": "UP9cnB4eV2oJ"
      },
      "source": [
        "persona = {\r\n",
        "    \"nombre\":\"Poncho\",\r\n",
        " \"apellido\": \"Hernandez\", \r\n",
        " \"anio_nacimiento\": 1992,\r\n",
        " \"mes_nacimiento\": 10,\r\n",
        " \"es_casado\": False,\r\n",
        " }"
      ],
      "execution_count": 29,
      "outputs": []
    },
    {
      "cell_type": "code",
      "metadata": {
        "colab": {
          "base_uri": "https://localhost:8080/"
        },
        "id": "SK9MSCVmWlyK",
        "outputId": "376a4e23-a262-4906-9db3-02a035393efd"
      },
      "source": [
        "persona[\"anio_nacimiento\"]"
      ],
      "execution_count": 30,
      "outputs": [
        {
          "output_type": "execute_result",
          "data": {
            "text/plain": [
              "1992"
            ]
          },
          "metadata": {
            "tags": []
          },
          "execution_count": 30
        }
      ]
    },
    {
      "cell_type": "markdown",
      "metadata": {
        "id": "k9vY75cSXpd4"
      },
      "source": [
        "# Ejercicio\r\n",
        "\r\n",
        "Dado un diccionario con la informacion de una persona calcula la edad y escribe un texto similar al siguiente,\r\n",
        "\r\n",
        "\"La persona llamada PEDRO tiene 25 años\""
      ]
    },
    {
      "cell_type": "code",
      "metadata": {
        "colab": {
          "base_uri": "https://localhost:8080/"
        },
        "id": "qEIVx-ePYVdU",
        "outputId": "d55556fc-971e-407c-c610-81fa9b300a09"
      },
      "source": [
        "ano_actual = 2020\r\n",
        "mes_actual =  7\r\n",
        "\r\n",
        "edad = anio_actual - persona[\"anio_nacimiento\"]\r\n",
        "if mes_actual < persona[\"mes_nacimiento\"]:\r\n",
        "    edad = edad - 1\r\n",
        "\r\n",
        "print(\"la persona\", persona[\"nombre\"], \"tiene\", edad, \"años\" )"
      ],
      "execution_count": 36,
      "outputs": [
        {
          "output_type": "stream",
          "text": [
            "la persona Poncho tiene 27 años\n"
          ],
          "name": "stdout"
        }
      ]
    },
    {
      "cell_type": "markdown",
      "metadata": {
        "id": "pdav4w5UdOoH"
      },
      "source": [
        "# Funciones \r\n",
        "\r\n",
        "Instrucciones de codigo reutilizables, debe cumplir con un objetivo, es decir, agregar una funcionalidad\r\n",
        "\r\n",
        "\"sintaxis\"\r\n",
        "\r\n",
        "$$def nombre_funcion():\r\n",
        "  print(\"código a ejecutar\")$$ \r\n",
        "  \r\n",
        "# Parametros de Funciones\r\n",
        "\r\n",
        "los valores con las que se trabaja una funcion\r\n",
        "\r\n",
        "# Bibliotecas\r\n",
        "\r\n",
        "Conjunto de funcionalidades que alguien mas implemento y que puedes utilizar.\r\n"
      ]
    },
    {
      "cell_type": "code",
      "metadata": {
        "id": "CD5SN9moYyd_"
      },
      "source": [
        "def saludar(nombre):\r\n",
        "    print(\"Hola \" + nombre + \" te saludo\")"
      ],
      "execution_count": 48,
      "outputs": []
    },
    {
      "cell_type": "code",
      "metadata": {
        "colab": {
          "base_uri": "https://localhost:8080/"
        },
        "id": "55i7hsqcfzeo",
        "outputId": "8d6739b8-f50f-4854-992e-146dd28ef55e"
      },
      "source": [
        "saludar(\"juan\")\r\n"
      ],
      "execution_count": 49,
      "outputs": [
        {
          "output_type": "stream",
          "text": [
            "Hola juan te saludo\n"
          ],
          "name": "stdout"
        }
      ]
    },
    {
      "cell_type": "code",
      "metadata": {
        "colab": {
          "base_uri": "https://localhost:8080/"
        },
        "id": "ncPcNErrf037",
        "outputId": "5e0f42de-3355-4f0c-d9ec-072784742840"
      },
      "source": [
        "saludar()\r\n",
        "saludar()\r\n",
        "saludar()\r\n",
        "saludar()\r\n",
        "\r\n",
        "\r\n"
      ],
      "execution_count": 44,
      "outputs": [
        {
          "output_type": "stream",
          "text": [
            "Hola te saludo\n",
            "Hola te saludo\n",
            "Hola te saludo\n",
            "Hola te saludo\n"
          ],
          "name": "stdout"
        }
      ]
    },
    {
      "cell_type": "code",
      "metadata": {
        "id": "FcQPSxUGoUFY"
      },
      "source": [
        "import random\r\n",
        "\r\n",
        "def tira_el_dado():\r\n",
        "    numero = random.randint(1,6)\r\n",
        "    print(\" El numero es\", numero)\r\n",
        "    return numero"
      ],
      "execution_count": 55,
      "outputs": []
    },
    {
      "cell_type": "code",
      "metadata": {
        "colab": {
          "base_uri": "https://localhost:8080/"
        },
        "id": "wdlVTPkqpYKD",
        "outputId": "a613197c-babd-4b90-ef8b-df127a130023"
      },
      "source": [
        "numero = tira_el_dado()"
      ],
      "execution_count": 60,
      "outputs": [
        {
          "output_type": "stream",
          "text": [
            " El numero es 3\n"
          ],
          "name": "stdout"
        }
      ]
    },
    {
      "cell_type": "code",
      "metadata": {
        "colab": {
          "base_uri": "https://localhost:8080/"
        },
        "id": "IVtYXlwlqC9j",
        "outputId": "48d30543-1477-42b3-d63a-8185c93a60e4"
      },
      "source": [
        "tu_numero = tira_el_dado()\r\n",
        "tu_numero"
      ],
      "execution_count": 61,
      "outputs": [
        {
          "output_type": "stream",
          "text": [
            " El numero es 2\n"
          ],
          "name": "stdout"
        },
        {
          "output_type": "execute_result",
          "data": {
            "text/plain": [
              "2"
            ]
          },
          "metadata": {
            "tags": []
          },
          "execution_count": 61
        }
      ]
    },
    {
      "cell_type": "markdown",
      "metadata": {
        "id": "D2aFtU1SrSN9"
      },
      "source": [
        "Ejercicio Final\n",
        "\n",
        "1) Crea una función que recibe como parámetro, anio y mes de nacimineto, luego calcula y regresa la edad\n",
        "\n",
        "2) Crea otra función que dada una edad te diga si es mayor de edad\n",
        "\n",
        "Utiliza las 2 funciones, primero calcula la edad luego con el resultado pasálo como parámetro y decide si es mayor de edad.\n",
        "\n",
        "\n",
        "\n",
        "![texto alternativo](http://www.trabajoh2a.com/uploads/3/8/7/7/38770971/18_1_orig.png)\n",
        "\n",
        "\n"
      ]
    },
    {
      "cell_type": "code",
      "metadata": {
        "id": "aZguhtmXpxPB"
      },
      "source": [
        "def calcula_edad(anio, mes):\r\n",
        "    anio_actual = 2020\r\n",
        "    mes_actual = 7\r\n",
        "\r\n",
        "    edad= anio_actual - anio\r\n",
        "\r\n",
        "    if mes_actual < mes:\r\n",
        "        edad = edad - 1\r\n",
        "\r\n",
        "        return edad\r\n",
        "\r\n",
        "def es_mayor_edad(edad):\r\n",
        "    if edad >= 18:\r\n",
        "        print (\"Eres mayor de edad\")\r\n",
        "    else:\r\n",
        "            print(\"Eres menor de edad\")"
      ],
      "execution_count": 69,
      "outputs": []
    },
    {
      "cell_type": "code",
      "metadata": {
        "colab": {
          "base_uri": "https://localhost:8080/"
        },
        "id": "LQH4oDobrQZH",
        "outputId": "e2329a06-16b8-44a9-e967-48a70ab1197d"
      },
      "source": [
        "calcula_edad(1999, 1)\r\n",
        "es_mayor_edad(edad)"
      ],
      "execution_count": 73,
      "outputs": [
        {
          "output_type": "stream",
          "text": [
            "Eres mayor de edad\n"
          ],
          "name": "stdout"
        }
      ]
    }
  ]
}