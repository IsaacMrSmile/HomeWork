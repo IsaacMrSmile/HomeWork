{
  "nbformat": 4,
  "nbformat_minor": 0,
  "metadata": {
    "colab": {
      "name": "AprendiendoPython1_.ipynb",
      "provenance": [],
      "collapsed_sections": [],
      "authorship_tag": "ABX9TyPgoUW0WxHalyrmmtyhoStT",
      "include_colab_link": true
    },
    "kernelspec": {
      "name": "python3",
      "display_name": "Python 3"
    }
  },
  "cells": [
    {
      "cell_type": "markdown",
      "metadata": {
        "id": "view-in-github",
        "colab_type": "text"
      },
      "source": [
        "<a href=\"https://colab.research.google.com/github/IsaacMrSmile/HomeWork/blob/main/AprendiendoPython1_.ipynb\" target=\"_parent\"><img src=\"https://colab.research.google.com/assets/colab-badge.svg\" alt=\"Open In Colab\"/></a>"
      ]
    },
    {
      "cell_type": "markdown",
      "metadata": {
        "id": "CAxdvRUJXnj3"
      },
      "source": [
        "## 1) Hola Mundo\r\n",
        " Mi primera linea de codigo con Python\r\n"
      ]
    },
    {
      "cell_type": "code",
      "metadata": {
        "colab": {
          "base_uri": "https://localhost:8080/"
        },
        "id": "Cvi_8YImXHkO",
        "outputId": "358cb3cb-21f3-495a-fda6-a8b2f058aa5b"
      },
      "source": [
        "print (\"Hola Mundo\")\r\n",
        "print (\"Estoy aprendiendo Python\")\r\n"
      ],
      "execution_count": 4,
      "outputs": [
        {
          "output_type": "stream",
          "text": [
            "Hola Mundo\n",
            "Estoy aprendiendo Python\n"
          ],
          "name": "stdout"
        }
      ]
    },
    {
      "cell_type": "markdown",
      "metadata": {
        "id": "l9uUOXE3YHx_"
      },
      "source": [
        "## 2) Variables\r\n",
        "\r\n",
        "Es un nombre para referirse a un 'dato' que existe en el programa, que ademas pueden guardar un tipo particular de dato.\r\n",
        "\r\n",
        "* bool: Boleando solo tienes 2 valores, verdadero o falso, True o False\r\n",
        "* str: String, cadena de caracteres, en un texto. \"Hola que tal\"\r\n",
        "* int: Entero,representa numeros enteros. 0, 99, -10.\r\n",
        "* float: Flotante representa numeros con punto decimal. 1.0, 0.0001, -10.1."
      ]
    },
    {
      "cell_type": "code",
      "metadata": {
        "colab": {
          "base_uri": "https://localhost:8080/"
        },
        "id": "7hhThpw9Y-FW",
        "outputId": "a5b33595-2818-4e12-b79c-5299b74ea85c"
      },
      "source": [
        "mi_nombre = \"Isaac\"\r\n",
        "print(mi_nombre)"
      ],
      "execution_count": 5,
      "outputs": [
        {
          "output_type": "stream",
          "text": [
            "Isaac\n"
          ],
          "name": "stdout"
        }
      ]
    },
    {
      "cell_type": "code",
      "metadata": {
        "id": "J3EGk6wLem50"
      },
      "source": [
        "# Ejemplos de Booleanos\r\n",
        "es_mayor_edad =  False\r\n",
        "es_mujer = True\r\n",
        "\r\n",
        "\r\n",
        "# Ejemplos de cadenas\r\n",
        "\r\n",
        "nombre = \"Pedro\"\r\n",
        "saludo = \"Bienvenidos a Dataclouder\"\r\n",
        "\r\n",
        "# Ejemplo de enteros\r\n",
        "\r\n",
        "peso = 85\r\n",
        "numero_hijos = 2\r\n",
        "\r\n",
        "# Ejemplos de Flotantes \r\n",
        "estatura = 1.73\r\n",
        "pi = 3.1416\r\n",
        "\r\n"
      ],
      "execution_count": 7,
      "outputs": []
    },
    {
      "cell_type": "markdown",
      "metadata": {
        "id": "q16jSasygMm8"
      },
      "source": [
        "# 3) Operadores\r\n",
        "\r\n",
        "* Aritmeticos: +, -, *, /\r\n",
        "* Comparacion: <, >, =, ect.\r\n",
        "* Logicos:and, or, not\r\n"
      ]
    },
    {
      "cell_type": "code",
      "metadata": {
        "colab": {
          "base_uri": "https://localhost:8080/"
        },
        "id": "SzJgcECWfG8K",
        "outputId": "7acbbee2-764c-49cf-d0cb-009dbd721b15"
      },
      "source": [
        "# Aqui mis caculos\r\n",
        "\r\n",
        "peso + 3\r\n",
        "estatura / peso"
      ],
      "execution_count": 11,
      "outputs": [
        {
          "output_type": "execute_result",
          "data": {
            "text/plain": [
              "0.020352941176470588"
            ]
          },
          "metadata": {
            "tags": []
          },
          "execution_count": 11
        }
      ]
    },
    {
      "cell_type": "code",
      "metadata": {
        "colab": {
          "base_uri": "https://localhost:8080/"
        },
        "id": "C3f_S5l_kzmh",
        "outputId": "fd383d6a-39f2-4179-b134-62fde77a1116"
      },
      "source": [
        "#peso >= 85\r\n",
        "\r\n",
        "#nombre == \"Pedro\"\r\n",
        "\r\n",
        "es_mujer and es_mayor_edad\r\n",
        "es_mujer and not es_mayor_edad\r\n",
        "es_mujer or es_mayor_edad\r\n"
      ],
      "execution_count": 27,
      "outputs": [
        {
          "output_type": "execute_result",
          "data": {
            "text/plain": [
              "True"
            ]
          },
          "metadata": {
            "tags": []
          },
          "execution_count": 27
        }
      ]
    },
    {
      "cell_type": "markdown",
      "metadata": {
        "id": "e0IHSRxHoWQJ"
      },
      "source": [
        "# Ejercicio\r\n",
        "\r\n",
        "Calcular el indice de masa coorporal\r\n",
        "Utiliza las variables peso (Kg) y estatura (m) La formula es:\r\n",
        "\r\n",
        "\r\n",
        "$$imc =   \\frac{peso}{altura^2}$$\r\n",
        "\r\n",
        "[texto del enlace](https://www.google.com/url?sa=i&url=https%3A%2F%2Fsignificado.com%2Findice-de-masa-corporal%2F&psig=AOvVaw16dBPioZ7ijQ3-I5gQ1yJk&ust=1609284069653000&source=images&cd=vfe&ved=0CAIQjRxqFwoTCMiFqb_o8e0CFQAAAAAdAAAAABAD)\r\n",
        "\r\n"
      ]
    },
    {
      "cell_type": "code",
      "metadata": {
        "colab": {
          "base_uri": "https://localhost:8080/"
        },
        "id": "9G0vr5AnplKS",
        "outputId": "72dbc73c-e090-41db-e101-87729f989f77"
      },
      "source": [
        "peso = 60\r\n",
        "estatatura = 1.63\r\n",
        "\r\n",
        "imc = peso / (estatura * estatura)\r\n",
        "imc"
      ],
      "execution_count": 33,
      "outputs": [
        {
          "output_type": "execute_result",
          "data": {
            "text/plain": [
              "20.04744562130375"
            ]
          },
          "metadata": {
            "tags": []
          },
          "execution_count": 33
        }
      ]
    }
  ]
}