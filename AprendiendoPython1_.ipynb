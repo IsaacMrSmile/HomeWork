{
  "nbformat": 4,
  "nbformat_minor": 0,
  "metadata": {
    "colab": {
      "name": "AprendiendoPython1_.ipynb",
      "provenance": [],
      "collapsed_sections": [],
      "authorship_tag": "ABX9TyMF6yDwQm0TfQwW5B+qowou",
      "include_colab_link": true
    },
    "kernelspec": {
      "name": "python3",
      "display_name": "Python 3"
    }
  },
  "cells": [
    {
      "cell_type": "markdown",
      "metadata": {
        "id": "view-in-github",
        "colab_type": "text"
      },
      "source": [
        "<a href=\"https://colab.research.google.com/github/IsaacMrSmile/HomeWork/blob/main/AprendiendoPython1_.ipynb\" target=\"_parent\"><img src=\"https://colab.research.google.com/assets/colab-badge.svg\" alt=\"Open In Colab\"/></a>"
      ]
    },
    {
      "cell_type": "markdown",
      "metadata": {
        "id": "CAxdvRUJXnj3"
      },
      "source": [
        "## 1) Hola Mundo\r\n",
        " Mi primera linea de codigo con Python\r\n"
      ]
    },
    {
      "cell_type": "code",
      "metadata": {
        "colab": {
          "base_uri": "https://localhost:8080/"
        },
        "id": "Cvi_8YImXHkO",
        "outputId": "358cb3cb-21f3-495a-fda6-a8b2f058aa5b"
      },
      "source": [
        "print (\"Hola Mundo\")\r\n",
        "print (\"Estoy aprendiendo Python\")\r\n"
      ],
      "execution_count": 4,
      "outputs": [
        {
          "output_type": "stream",
          "text": [
            "Hola Mundo\n",
            "Estoy aprendiendo Python\n"
          ],
          "name": "stdout"
        }
      ]
    },
    {
      "cell_type": "markdown",
      "metadata": {
        "id": "l9uUOXE3YHx_"
      },
      "source": [
        "## 2) Variables\r\n",
        "\r\n",
        "Es un nombre para referirse a un 'dato' que existe en el programa, que ademas pueden guardar un tipo particular de dato.\r\n",
        "\r\n",
        "* bool: Boleando solo tienes 2 valores, verdadero o falso, True o False\r\n",
        "* str: String, cadena de caracteres, en un texto. \"Hola que tal\"\r\n",
        "* int: Entero,representa numeros enteros. 0, 99, -10.\r\n",
        "* float: Flotante representa numeros con punto decimal. 1.0, 0.0001, -10.1."
      ]
    },
    {
      "cell_type": "code",
      "metadata": {
        "colab": {
          "base_uri": "https://localhost:8080/"
        },
        "id": "7hhThpw9Y-FW",
        "outputId": "a5b33595-2818-4e12-b79c-5299b74ea85c"
      },
      "source": [
        "mi_nombre = \"Isaac\"\r\n",
        "print(mi_nombre)"
      ],
      "execution_count": 5,
      "outputs": [
        {
          "output_type": "stream",
          "text": [
            "Isaac\n"
          ],
          "name": "stdout"
        }
      ]
    },
    {
      "cell_type": "code",
      "metadata": {
        "id": "J3EGk6wLem50"
      },
      "source": [
        "# Ejemplos de Booleanos\r\n",
        "es_mayor_edad =  False\r\n",
        "es_mujer = True\r\n",
        "\r\n",
        "\r\n",
        "# Ejemplos de cadenas\r\n",
        "\r\n",
        "nombre = \"Pedro\"\r\n",
        "saludo = \"Bienvenidos a Dataclouder\"\r\n",
        "\r\n",
        "# Ejemplo de enteros\r\n",
        "\r\n",
        "peso = 85\r\n",
        "numero_hijos = 2\r\n",
        "\r\n",
        "# Ejemplos de Flotantes \r\n",
        "estatura = 1.73\r\n",
        "pi = 3.1416\r\n",
        "\r\n"
      ],
      "execution_count": 7,
      "outputs": []
    },
    {
      "cell_type": "code",
      "metadata": {
        "id": "SzJgcECWfG8K"
      },
      "source": [
        ""
      ],
      "execution_count": null,
      "outputs": []
    }
  ]
}