{
  "nbformat": 4,
  "nbformat_minor": 0,
  "metadata": {
    "colab": {
      "name": "Curso_Python_1.ipynb",
      "provenance": [],
      "authorship_tag": "ABX9TyNaQVbOYNM4t5kQFkmxUrXB",
      "include_colab_link": true
    },
    "kernelspec": {
      "name": "python3",
      "display_name": "Python 3"
    }
  },
  "cells": [
    {
      "cell_type": "markdown",
      "metadata": {
        "id": "view-in-github",
        "colab_type": "text"
      },
      "source": [
        "<a href=\"https://colab.research.google.com/github/IsaacMrSmile/HomeWork/blob/main/Curso_Python_1.ipynb\" target=\"_parent\"><img src=\"https://colab.research.google.com/assets/colab-badge.svg\" alt=\"Open In Colab\"/></a>"
      ]
    },
    {
      "cell_type": "markdown",
      "metadata": {
        "id": "DRyJ7A6WNPSC"
      },
      "source": [
        "# Conceptos Basicos de  Python\r\n",
        "\r\n",
        "\r\n",
        "1.   Variable\r\n",
        "2.   Operadores\r\n",
        "3.   DataType\r\n",
        "4.   Functions\r\n",
        "\r\n",
        "\r\n",
        "\r\n"
      ]
    },
    {
      "cell_type": "code",
      "metadata": {
        "colab": {
          "base_uri": "https://localhost:8080/"
        },
        "id": "CIWW9-SvNmpZ",
        "outputId": "6807ef8c-eaad-45dc-8d29-de2149c0296a"
      },
      "source": [
        "#  Variable\r\n",
        "\r\n",
        "\r\n",
        "np_population = 1000\r\n",
        "print(np_population)\r\n",
        "print(type(np_population))"
      ],
      "execution_count": 5,
      "outputs": [
        {
          "output_type": "stream",
          "text": [
            "1000\n",
            "<class 'int'>\n"
          ],
          "name": "stdout"
        }
      ]
    },
    {
      "cell_type": "code",
      "metadata": {
        "colab": {
          "base_uri": "https://localhost:8080/"
        },
        "id": "iDiML5M0OGRD",
        "outputId": "946f67c6-93e3-4994-ee50-1490a80bf13d"
      },
      "source": [
        "x = 5 \r\n",
        "y = 6\r\n",
        "z = 7\r\n",
        "z, y, z = 5, 6, 7\r\n",
        "np_population, ch_population = 1000, 2000\r\n",
        "print(np_population, ch_population)"
      ],
      "execution_count": 9,
      "outputs": [
        {
          "output_type": "stream",
          "text": [
            "1000 2000\n"
          ],
          "name": "stdout"
        }
      ]
    },
    {
      "cell_type": "code",
      "metadata": {
        "id": "IkYNHwvJOmD1"
      },
      "source": [
        "# pythonic way: minusculas, _\r\n",
        "full_name = 'Paul Miller'\r\n"
      ],
      "execution_count": 10,
      "outputs": []
    },
    {
      "cell_type": "code",
      "metadata": {
        "colab": {
          "base_uri": "https://localhost:8080/"
        },
        "id": "FQeC7ijpO70t",
        "outputId": "a4934c54-73f9-4e1b-a140-793f4c769ffa"
      },
      "source": [
        "# Operadores Aritmeticos\r\n",
        "\r\n",
        "# +, -, *, /\r\n",
        "\r\n",
        "\r\n",
        "x, y = 3, 4\r\n",
        "\r\n",
        "print(x + y*5)\r\n",
        "print ((x + y)*5)\r\n",
        "print ( x -y)\r\n",
        "print (x / y)"
      ],
      "execution_count": 15,
      "outputs": [
        {
          "output_type": "stream",
          "text": [
            "23\n",
            "35\n",
            "-1\n",
            "0.75\n"
          ],
          "name": "stdout"
        }
      ]
    },
    {
      "cell_type": "code",
      "metadata": {
        "colab": {
          "base_uri": "https://localhost:8080/"
        },
        "id": "aXeYEVGfPgI2",
        "outputId": "eef4f35c-fc2a-4d9d-8103-17c375f19c0a"
      },
      "source": [
        "# los valores aritmeticos tambien pueden ser usados con string\r\n",
        "\r\n",
        "word = ' Hello'\r\n",
        "print(word * 4)\r\n",
        "print(word * 6)\r\n",
        "print (word + str(6))"
      ],
      "execution_count": 20,
      "outputs": [
        {
          "output_type": "stream",
          "text": [
            " Hello Hello Hello Hello\n",
            " Hello Hello Hello Hello Hello Hello\n",
            " Hello6\n"
          ],
          "name": "stdout"
        }
      ]
    },
    {
      "cell_type": "code",
      "metadata": {
        "id": "g_wWEAkyP4FQ"
      },
      "source": [
        ""
      ],
      "execution_count": null,
      "outputs": []
    }
  ]
}