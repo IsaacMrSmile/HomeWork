{
  "nbformat": 4,
  "nbformat_minor": 0,
  "metadata": {
    "colab": {
      "name": "Curso_Python_1.ipynb",
      "provenance": [],
      "authorship_tag": "ABX9TyOJMINBZ+mxjdAixBhgT5aW",
      "include_colab_link": true
    },
    "kernelspec": {
      "name": "python3",
      "display_name": "Python 3"
    }
  },
  "cells": [
    {
      "cell_type": "markdown",
      "metadata": {
        "id": "view-in-github",
        "colab_type": "text"
      },
      "source": [
        "<a href=\"https://colab.research.google.com/github/IsaacMrSmile/HomeWork/blob/main/Curso_Python_1.ipynb\" target=\"_parent\"><img src=\"https://colab.research.google.com/assets/colab-badge.svg\" alt=\"Open In Colab\"/></a>"
      ]
    },
    {
      "cell_type": "markdown",
      "metadata": {
        "id": "DRyJ7A6WNPSC"
      },
      "source": [
        "# Conceptos Basicos de  Python\r\n",
        "\r\n",
        "\r\n",
        "1.   Variable\r\n",
        "2.   Operadores\r\n",
        "3.   DataType\r\n",
        "4.   Functions\r\n",
        "\r\n",
        "\r\n",
        "\r\n"
      ]
    },
    {
      "cell_type": "code",
      "metadata": {
        "colab": {
          "base_uri": "https://localhost:8080/"
        },
        "id": "CIWW9-SvNmpZ",
        "outputId": "6807ef8c-eaad-45dc-8d29-de2149c0296a"
      },
      "source": [
        "#  Variable\r\n",
        "\r\n",
        "\r\n",
        "np_population = 1000\r\n",
        "print(np_population)\r\n",
        "print(type(np_population))"
      ],
      "execution_count": 5,
      "outputs": [
        {
          "output_type": "stream",
          "text": [
            "1000\n",
            "<class 'int'>\n"
          ],
          "name": "stdout"
        }
      ]
    },
    {
      "cell_type": "code",
      "metadata": {
        "id": "iDiML5M0OGRD"
      },
      "source": [
        ""
      ],
      "execution_count": null,
      "outputs": []
    }
  ]
}